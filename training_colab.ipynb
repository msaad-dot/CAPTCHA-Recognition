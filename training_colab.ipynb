{
 "cells": [
  {
   "cell_type": "code",
   "execution_count": null,
   "metadata": {
    "id": "vt45mNCK5OJ5"
   },
   "outputs": [],
   "source": [
    "# Upload Kaggle API key (kaggle.json)\n",
    "from google.colab import files\n",
    "files.upload()  # Select kaggle.json from your local machine"
   ]
  },
  {
   "cell_type": "code",
   "execution_count": null,
   "metadata": {
    "id": "y9QnjQOlDCzl"
   },
   "outputs": [],
   "source": [
    "# Configure Kaggle API credentials\n",
    "!mkdir -p ~/.kaggle\n",
    "!mv kaggle.json ~/.kaggle/\n",
    "!chmod 600 ~/.kaggle/kaggle.json"
   ]
  },
  {
   "cell_type": "code",
   "execution_count": null,
   "metadata": {
    "id": "HSGC6rvCDIAn"
   },
   "outputs": [],
   "source": [
    "# Download dataset (adjust slug according to Kaggle dataset name)\n",
    "!kaggle datasets download -d parsasam/captcha-dataset\n",
    "\n",
    "# Unzip dataset into /content/data\n",
    "!mkdir -p /content/data\n",
    "!unzip -q captcha.zip -d /content/data"
   ]
  },
  {
   "cell_type": "code",
   "execution_count": null,
   "metadata": {
    "id": "GLQ2VxrjIse8"
   },
   "outputs": [],
   "source": [
    "# Enable dynamic GPU memory allocation in TensorFlow\n",
    "import tensorflow as tf\n",
    "gpus = tf.config.list_physical_devices('GPU')\n",
    "for g in gpus:\n",
    "    tf.config.experimental.set_memory_growth(g, True)\n",
    "print(\"GPUs:\", gpus)"
   ]
  },
  {
   "cell_type": "code",
   "execution_count": null,
   "metadata": {
    "id": "DxeM6FcdO0Bz"
   },
   "outputs": [],
   "source": [
    "# Create project directory in Colab\n",
    "%cd /content\n",
    "!mkdir -p crnn_ctc\n",
    "%cd crnn_ctc"
   ]
  },
  {
   "cell_type": "code",
   "execution_count": null,
   "metadata": {
    "id": "p-SarIAuItTw"
   },
   "outputs": [],
   "source": [
    "# Run training\n",
    "%cd /content/crnn_ctc\n",
    "!python train.py"
   ]
  },
  {
   "cell_type": "code",
   "execution_count": null,
   "metadata": {},
   "outputs": [],
   "source": [
    "# Export safe model\n",
    "!python export_safe.py   --in_keras ./saved_model/crnn_ctc_final.keras   --out_keras ./saved_model/crnn_ctc_final_safe.keras"
   ]
  },
  {
   "cell_type": "code",
   "execution_count": null,
   "metadata": {
    "id": "7jkoz7sWEMav"
   },
   "outputs": [],
   "source": [
    "# Run test\n",
    "!python test.py \\\n",
    "  --model ./saved_model/crnn_ctc_final_.keras \\\n",
    "  --image /content/crnn_ctc/images.png \\\n",
    "  --strong --force_invert \\\n",
    "  --save_debug /content/debug_out2"
   ]
  }
 ],
 "metadata": {
  "accelerator": "GPU",
  "colab": {
   "authorship_tag": "ABX9TyMGEDJiccBZviXKq6QBlGUC",
   "gpuType": "T4",
   "machine_shape": "hm",
   "provenance": []
  },
  "kernelspec": {
   "display_name": "Python 3",
   "name": "python3"
  },
  "language_info": {
   "name": "python"
  }
 },
 "nbformat": 4,
 "nbformat_minor": 0
}
